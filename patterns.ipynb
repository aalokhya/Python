{
  "nbformat": 4,
  "nbformat_minor": 0,
  "metadata": {
    "colab": {
      "provenance": [],
      "authorship_tag": "ABX9TyNoK+miHcNHZhzjBHFkhGhG",
      "include_colab_link": true
    },
    "kernelspec": {
      "name": "python3",
      "display_name": "Python 3"
    },
    "language_info": {
      "name": "python"
    }
  },
  "cells": [
    {
      "cell_type": "markdown",
      "metadata": {
        "id": "view-in-github",
        "colab_type": "text"
      },
      "source": [
        "<a href=\"https://colab.research.google.com/github/aalokhya/Python/blob/main/patterns.ipynb\" target=\"_parent\"><img src=\"https://colab.research.google.com/assets/colab-badge.svg\" alt=\"Open In Colab\"/></a>"
      ]
    },
    {
      "cell_type": "markdown",
      "source": [
        "1.STAR PATTERNS"
      ],
      "metadata": {
        "id": "AewI3Mpwfi2S"
      }
    },
    {
      "cell_type": "code",
      "source": [
        "# increasing triangle\n",
        "n = 5\n",
        "for i in range( n):\n",
        "    for j in range(i+1):\n",
        "        print(\"*\", end=\" \")\n",
        "    print()"
      ],
      "metadata": {
        "colab": {
          "base_uri": "https://localhost:8080/"
        },
        "id": "8_2YlLbAe1bT",
        "outputId": "d7c208e7-44e8-4457-89d7-be0698dea1b0"
      },
      "execution_count": 63,
      "outputs": [
        {
          "output_type": "stream",
          "name": "stdout",
          "text": [
            "* \n",
            "* * \n",
            "* * * \n",
            "* * * * \n",
            "* * * * * \n"
          ]
        }
      ]
    },
    {
      "cell_type": "code",
      "source": [
        "# Decreasing Triangle\n",
        "n = 5\n",
        "for i in range(n):\n",
        "    for j in range(i,n):\n",
        "        print(\"*\", end=\" \")\n",
        "    print()"
      ],
      "metadata": {
        "colab": {
          "base_uri": "https://localhost:8080/"
        },
        "id": "M7Q3zl7ufBTK",
        "outputId": "5eae5a8b-fdd2-4981-84cf-0a3c60b98933"
      },
      "execution_count": 64,
      "outputs": [
        {
          "output_type": "stream",
          "name": "stdout",
          "text": [
            "* * * * * \n",
            "* * * * \n",
            "* * * \n",
            "* * \n",
            "* \n"
          ]
        }
      ]
    },
    {
      "cell_type": "code",
      "source": [
        "# Right Triangle\n",
        "n = 5\n",
        "for i in range(n):\n",
        "    for j in range(i,n):\n",
        "        print(\" \", end=\" \")\n",
        "    for j in range(i + 1):\n",
        "        print(\"*\", end=\" \")\n",
        "    print()"
      ],
      "metadata": {
        "colab": {
          "base_uri": "https://localhost:8080/"
        },
        "id": "Qcizo13gfGPk",
        "outputId": "fd4e9d9b-feec-4115-bf4a-a7c653b9ac79"
      },
      "execution_count": 65,
      "outputs": [
        {
          "output_type": "stream",
          "name": "stdout",
          "text": [
            "          * \n",
            "        * * \n",
            "      * * * \n",
            "    * * * * \n",
            "  * * * * * \n"
          ]
        }
      ]
    },
    {
      "cell_type": "code",
      "source": [
        "# left Triangle\n",
        "n = 5\n",
        "for i in range(n):\n",
        "    for j in range(i + 1):\n",
        "        print(\" \", end=\" \")\n",
        "    for j in range(i,n):\n",
        "        print(\"*\", end=\" \")\n",
        "    print()"
      ],
      "metadata": {
        "colab": {
          "base_uri": "https://localhost:8080/"
        },
        "id": "VHD5_q9GfXcA",
        "outputId": "03db73a9-b42f-4302-e4b5-ec3ed3672d0c"
      },
      "execution_count": 66,
      "outputs": [
        {
          "output_type": "stream",
          "name": "stdout",
          "text": [
            "  * * * * * \n",
            "    * * * * \n",
            "      * * * \n",
            "        * * \n",
            "          * \n"
          ]
        }
      ]
    },
    {
      "cell_type": "code",
      "source": [
        "# Hill Pattern\n",
        "n = 5\n",
        "for i in range(n):\n",
        "  for j in range(i,n):\n",
        "    print(\" \",end = \" \")\n",
        "  for j in range(i):\n",
        "        print(\"*\", end=\" \")\n",
        "  for j in range(i+1):\n",
        "    print(\"*\",end = \" \")\n",
        "  print()\n"
      ],
      "metadata": {
        "colab": {
          "base_uri": "https://localhost:8080/"
        },
        "id": "hXSauw30edhL",
        "outputId": "43e4cb77-b326-4eda-93fb-e1c08b0d04c3"
      },
      "execution_count": 60,
      "outputs": [
        {
          "output_type": "stream",
          "name": "stdout",
          "text": [
            "          * \n",
            "        * * * \n",
            "      * * * * * \n",
            "    * * * * * * * \n",
            "  * * * * * * * * * \n"
          ]
        }
      ]
    },
    {
      "cell_type": "code",
      "source": [
        "# reverse Hill Pattern\n",
        "n = 5\n",
        "for i in range(n):\n",
        "  for j in range(i+1):\n",
        "    print(\" \",end = \" \")\n",
        "  for j in range(i,n-1):\n",
        "        print(\"*\", end=\" \")\n",
        "  for j in range(i,n):\n",
        "        print(\"*\", end=\" \")\n",
        "  print()"
      ],
      "metadata": {
        "colab": {
          "base_uri": "https://localhost:8080/"
        },
        "id": "hrB38wXNeqMJ",
        "outputId": "05a58b17-1207-4407-bcbc-af78593a338e"
      },
      "execution_count": 61,
      "outputs": [
        {
          "output_type": "stream",
          "name": "stdout",
          "text": [
            "  * * * * * * * * * \n",
            "    * * * * * * * \n",
            "      * * * * * \n",
            "        * * * \n",
            "          * \n"
          ]
        }
      ]
    },
    {
      "cell_type": "code",
      "execution_count": 40,
      "metadata": {
        "colab": {
          "base_uri": "https://localhost:8080/"
        },
        "id": "QYXwLEMbQKfj",
        "outputId": "6b83146b-d774-4eaa-a654-a7b7ab760b0b"
      },
      "outputs": [
        {
          "output_type": "stream",
          "name": "stdout",
          "text": [
            "*                 * \n",
            "* *             * * \n",
            "* * *         * * * \n",
            "* * * *     * * * * \n",
            "* * * * * * * * * * \n",
            "* * * *     * * * * \n",
            "* * *         * * * \n",
            "* *             * * \n",
            "*                 * \n"
          ]
        }
      ],
      "source": [
        "# Butterfly Pattern\n",
        "n = 5\n",
        "for i in range(n-1):\n",
        "  for j in range(i + 1):\n",
        "    print(\"*\",end = \" \")\n",
        "  for j in range(2 * (n - i - 1)):\n",
        "        print(\" \", end=\" \")\n",
        "  for j in range(i + 1):\n",
        "        print(\"*\", end=\" \")\n",
        "  print()\n",
        "\n",
        "for i in range(n):\n",
        "  for j in range(i,n):\n",
        "    print(\"*\",end = \" \")\n",
        "  for j in range(2 * i):\n",
        "        print(\" \", end=\" \")\n",
        "  for j in range(i, n):\n",
        "        print(\"*\", end=\" \")\n",
        "\n",
        "  print()\n"
      ]
    },
    {
      "cell_type": "code",
      "source": [
        "# sand glass Pattern\n",
        "n = 5\n",
        "for i in range(n-1):\n",
        "  for j in range(i+1):\n",
        "    print(\" \",end = \" \")\n",
        "  for j in range(i,n-1):\n",
        "        print(\"*\", end=\" \")\n",
        "  for j in range(i,n):\n",
        "        print(\"*\", end=\" \")\n",
        "  print()\n",
        "for i in range(n):\n",
        "  for j in range(i,n):\n",
        "    print(\" \",end = \" \")\n",
        "  for j in range(i):\n",
        "        print(\"*\", end=\" \")\n",
        "  for j in range(i+1):\n",
        "    print(\"*\",end = \" \")\n",
        "  print()\n"
      ],
      "metadata": {
        "colab": {
          "base_uri": "https://localhost:8080/"
        },
        "id": "WR_EarvyScgQ",
        "outputId": "425fd0bf-d311-4e7b-aad1-3ea0a0c82eb7"
      },
      "execution_count": 57,
      "outputs": [
        {
          "output_type": "stream",
          "name": "stdout",
          "text": [
            "  * * * * * * * * * \n",
            "    * * * * * * * \n",
            "      * * * * * \n",
            "        * * * \n",
            "          * \n",
            "        * * * \n",
            "      * * * * * \n",
            "    * * * * * * * \n",
            "  * * * * * * * * * \n"
          ]
        }
      ]
    },
    {
      "cell_type": "code",
      "source": [
        "# Diamond Pattern\n",
        "n = 5\n",
        "for i in range(n-1):\n",
        "  for j in range(i,n):\n",
        "    print(\" \",end = \" \")\n",
        "  for j in range(i):\n",
        "        print(\"*\", end=\" \")\n",
        "  for j in range(i+1):\n",
        "    print(\"*\",end = \" \")\n",
        "  print()\n",
        "for i in range(n):\n",
        "  for j in range(i+1):\n",
        "    print(\" \",end = \" \")\n",
        "  for j in range(i,n-1):\n",
        "        print(\"*\", end=\" \")\n",
        "  for j in range(i,n):\n",
        "        print(\"*\", end=\" \")\n",
        "  print()"
      ],
      "metadata": {
        "colab": {
          "base_uri": "https://localhost:8080/"
        },
        "id": "q5XvEP4MduFU",
        "outputId": "08de2d78-6784-485f-fde5-d4c62c60e20e"
      },
      "execution_count": 59,
      "outputs": [
        {
          "output_type": "stream",
          "name": "stdout",
          "text": [
            "          * \n",
            "        * * * \n",
            "      * * * * * \n",
            "    * * * * * * * \n",
            "  * * * * * * * * * \n",
            "    * * * * * * * \n",
            "      * * * * * \n",
            "        * * * \n",
            "          * \n"
          ]
        }
      ]
    },
    {
      "cell_type": "markdown",
      "source": [
        "2.NUMBER PATTERNS"
      ],
      "metadata": {
        "id": "fUbfSDlJfvGD"
      }
    },
    {
      "cell_type": "code",
      "source": [
        "# same number increasing\n",
        "n = 5\n",
        "for i in range(n):\n",
        "  for j in range(i+1):\n",
        "    print(i+1, end = \" \")\n",
        "  print()\n",
        "\n",
        "'''\n",
        "n = 5\n",
        "p = 1\n",
        "for i in range(n):\n",
        "  for j in range(i+1):\n",
        "    print(p, end = \" \")\n",
        "    p +=1\n",
        "  print()\n",
        "\n",
        "'''"
      ],
      "metadata": {
        "colab": {
          "base_uri": "https://localhost:8080/",
          "height": 122
        },
        "id": "sHH1HAjUfyGz",
        "outputId": "7ae16fce-66ce-44da-eff2-6fc4cfcc18e8"
      },
      "execution_count": 72,
      "outputs": [
        {
          "output_type": "stream",
          "name": "stdout",
          "text": [
            "1 \n",
            "2 2 \n",
            "3 3 3 \n",
            "4 4 4 4 \n",
            "5 5 5 5 5 \n"
          ]
        },
        {
          "output_type": "execute_result",
          "data": {
            "text/plain": [
              "'\\nn = 5\\np = 1\\nfor i in range(n):\\n  for j in range(i+1):\\n    print(p, end = \" \")\\n    p +=1\\n  print()\\n\\n'"
            ],
            "application/vnd.google.colaboratory.intrinsic+json": {
              "type": "string"
            }
          },
          "metadata": {},
          "execution_count": 72
        }
      ]
    },
    {
      "cell_type": "code",
      "source": [
        "# same number decreasing\n",
        "n = 5\n",
        "p = 5\n",
        "for i in range(n):\n",
        "  for j in range(i+1):\n",
        "    print(p, end = \" \")\n",
        "  p -=1\n",
        "  print()\n"
      ],
      "metadata": {
        "colab": {
          "base_uri": "https://localhost:8080/"
        },
        "id": "jMynd9Y_htQg",
        "outputId": "7c3bab7b-f90b-4fb2-e732-b29d6e7808c6"
      },
      "execution_count": 78,
      "outputs": [
        {
          "output_type": "stream",
          "name": "stdout",
          "text": [
            "5 \n",
            "4 4 \n",
            "3 3 3 \n",
            "2 2 2 2 \n",
            "1 1 1 1 1 \n"
          ]
        }
      ]
    },
    {
      "cell_type": "code",
      "source": [
        "# increment by 2\n",
        "n = 5\n",
        "p = 0\n",
        "for i in range(n):\n",
        "  for j in range(i+1):\n",
        "    print(p, end = \" \")\n",
        "  p += 2\n",
        "  print()"
      ],
      "metadata": {
        "colab": {
          "base_uri": "https://localhost:8080/"
        },
        "id": "E0o5Sf9OiLVK",
        "outputId": "0bb928f1-12b7-41a4-8702-f734943038d5"
      },
      "execution_count": 82,
      "outputs": [
        {
          "output_type": "stream",
          "name": "stdout",
          "text": [
            "0 \n",
            "2 2 \n",
            "4 4 4 \n",
            "6 6 6 6 \n",
            "8 8 8 8 8 \n"
          ]
        }
      ]
    },
    {
      "cell_type": "code",
      "source": [
        "# conditional\n",
        "n = 5\n",
        "for i in range(n):\n",
        "  for j in range(i+1):\n",
        "    if(i%2 == 0 ):\n",
        "      print('1',end = \" \")\n",
        "    else:\n",
        "      print('2', end = \" \")\n",
        "  print()"
      ],
      "metadata": {
        "colab": {
          "base_uri": "https://localhost:8080/"
        },
        "id": "0tWjztcJi6pT",
        "outputId": "79585896-1058-4c7c-f9b2-c05a1c03ca16"
      },
      "execution_count": 84,
      "outputs": [
        {
          "output_type": "stream",
          "name": "stdout",
          "text": [
            "1 \n",
            "2 2 \n",
            "1 1 1 \n",
            "2 2 2 2 \n",
            "1 1 1 1 1 \n"
          ]
        }
      ]
    },
    {
      "cell_type": "code",
      "source": [
        "# Diamond pattern\n",
        "\n",
        "n=5\n",
        "p=1\n",
        "for i in range (n-1):\n",
        "   for j in range (i,n):\n",
        "      print (' ', end = ' ')\n",
        "   for j in range (i):\n",
        "      print (p, end = ' ')\n",
        "   for j in range (i+1):\n",
        "      print (p, end = ' ')\n",
        "   p+=1\n",
        "   print()\n",
        "for i in range (n):\n",
        "   for j in range (i+1):\n",
        "      print (' ', end = ' ')\n",
        "   for j in range (i,n-1):\n",
        "      print (p, end = ' ')\n",
        "   for j in range (i,n):\n",
        "      print (p, end = ' ')\n",
        "   p+=1\n",
        "   print()"
      ],
      "metadata": {
        "colab": {
          "base_uri": "https://localhost:8080/"
        },
        "id": "qMjSbg7Gj8DZ",
        "outputId": "b8e571c6-2280-4154-8934-b799fb458cae"
      },
      "execution_count": 85,
      "outputs": [
        {
          "output_type": "stream",
          "name": "stdout",
          "text": [
            "          1 \n",
            "        2 2 2 \n",
            "      3 3 3 3 3 \n",
            "    4 4 4 4 4 4 4 \n",
            "  5 5 5 5 5 5 5 5 5 \n",
            "    6 6 6 6 6 6 6 \n",
            "      7 7 7 7 7 \n",
            "        8 8 8 \n",
            "          9 \n"
          ]
        }
      ]
    },
    {
      "cell_type": "code",
      "source": [
        "# inc and dec of numbers\n",
        "\n",
        "n=5\n",
        "p=1\n",
        "for i in range (n-1):\n",
        "    for j in range (i,n):\n",
        "        print (' ', end = ' ')\n",
        "    for j in range (i):\n",
        "        print (p, end = ' ')\n",
        "    for j in range (i+1):\n",
        "        print (p, end = ' ')\n",
        "    p+=1\n",
        "    print()\n",
        "for i in range (n):\n",
        "    for j in range (i+1):\n",
        "        print (' ', end = ' ')\n",
        "    for j in range (i,n-1):\n",
        "        print (p, end = ' ')\n",
        "    for j in range (i,n):\n",
        "        print (p, end = ' ')\n",
        "    p-=1\n",
        "    print()"
      ],
      "metadata": {
        "colab": {
          "base_uri": "https://localhost:8080/"
        },
        "id": "qUqnrdNIj_RZ",
        "outputId": "e62eb5b9-5574-441c-f2cc-51abe611c8e8"
      },
      "execution_count": 89,
      "outputs": [
        {
          "output_type": "stream",
          "name": "stdout",
          "text": [
            "          1 \n",
            "        2 2 2 \n",
            "      3 3 3 3 3 \n",
            "    4 4 4 4 4 4 4 \n",
            "  5 5 5 5 5 5 5 5 5 \n",
            "    4 4 4 4 4 4 4 \n",
            "      3 3 3 3 3 \n",
            "        2 2 2 \n",
            "          1 \n"
          ]
        }
      ]
    },
    {
      "cell_type": "code",
      "source": [
        "# col pattern\n",
        "n = 5\n",
        "for i in range(n):\n",
        "   p=1\n",
        "   for j in range(i+1):\n",
        "      print(p, end=' ')\n",
        "      p+=1\n",
        "   print()"
      ],
      "metadata": {
        "colab": {
          "base_uri": "https://localhost:8080/"
        },
        "id": "eiT74NTxk9GB",
        "outputId": "015ccc5c-ba6d-40bd-9cab-a890009d2961"
      },
      "execution_count": 90,
      "outputs": [
        {
          "output_type": "stream",
          "name": "stdout",
          "text": [
            "1 \n",
            "1 2 \n",
            "1 2 3 \n",
            "1 2 3 4 \n",
            "1 2 3 4 5 \n"
          ]
        }
      ]
    },
    {
      "cell_type": "code",
      "source": [
        "n = 5\n",
        "for i in range(n):\n",
        "     p=1\n",
        "     for j in range(i):\n",
        "        print(' ', end=' ')\n",
        "     for k in range(i, n):\n",
        "        print(p, end=' ')\n",
        "        p+=1\n",
        "     print()"
      ],
      "metadata": {
        "colab": {
          "base_uri": "https://localhost:8080/"
        },
        "id": "LBQD7C7vli4R",
        "outputId": "ecabbdea-8b74-469c-e37a-c87ff153ecc2"
      },
      "execution_count": 92,
      "outputs": [
        {
          "output_type": "stream",
          "name": "stdout",
          "text": [
            "1 2 3 4 5 \n",
            "  1 2 3 4 \n",
            "    1 2 3 \n",
            "      1 2 \n",
            "        1 \n"
          ]
        }
      ]
    },
    {
      "cell_type": "code",
      "source": [
        "n = 5\n",
        "for i in range(n):\n",
        "   p=1\n",
        "   for j in range(i, n):\n",
        "      print(' ', end=' ')\n",
        "   for j in range(i):\n",
        "      print(p, end=' ')\n",
        "      p+=1\n",
        "   for j in range(i+1):\n",
        "      print(p, end=' ')\n",
        "      p+=1\n",
        "   print(' ')"
      ],
      "metadata": {
        "colab": {
          "base_uri": "https://localhost:8080/"
        },
        "id": "Q5j4hxYJlmTn",
        "outputId": "f916dfd6-0f88-4030-e859-f514a554aca4"
      },
      "execution_count": 93,
      "outputs": [
        {
          "output_type": "stream",
          "name": "stdout",
          "text": [
            "          1  \n",
            "        1 2 3  \n",
            "      1 2 3 4 5  \n",
            "    1 2 3 4 5 6 7  \n",
            "  1 2 3 4 5 6 7 8 9  \n"
          ]
        }
      ]
    },
    {
      "cell_type": "code",
      "source": [
        "n = 5\n",
        "for i in range(n):\n",
        "   p=5\n",
        "   for j in range(i+1):\n",
        "      print(p, end=' ')\n",
        "      p-=1\n",
        "   print()"
      ],
      "metadata": {
        "colab": {
          "base_uri": "https://localhost:8080/"
        },
        "id": "f8bgXnZKmP9Z",
        "outputId": "70e96831-9b6f-4de9-be0a-ee8f776a424a"
      },
      "execution_count": 94,
      "outputs": [
        {
          "output_type": "stream",
          "name": "stdout",
          "text": [
            "5 \n",
            "5 4 \n",
            "5 4 3 \n",
            "5 4 3 2 \n",
            "5 4 3 2 1 \n"
          ]
        }
      ]
    },
    {
      "cell_type": "code",
      "source": [
        "n=5\n",
        "k=5\n",
        "for i in range (n):\n",
        "   p = k\n",
        "   for j in range (i+1):\n",
        "      print (' ', end = ' ')\n",
        "   for j in range (i,n):\n",
        "      print (p, end = ' ')\n",
        "      p-=1\n",
        "   k-=1\n",
        "   print()"
      ],
      "metadata": {
        "colab": {
          "base_uri": "https://localhost:8080/"
        },
        "id": "JM7N2djPmTGg",
        "outputId": "e08a8d58-0130-4716-8419-d9eb8253eb8a"
      },
      "execution_count": 95,
      "outputs": [
        {
          "output_type": "stream",
          "name": "stdout",
          "text": [
            "  5 4 3 2 1 \n",
            "    4 3 2 1 \n",
            "      3 2 1 \n",
            "        2 1 \n",
            "          1 \n"
          ]
        }
      ]
    },
    {
      "cell_type": "code",
      "source": [
        "n = 5\n",
        "for i in range(n):\n",
        "  p=1\n",
        "  for j in range(i, n):\n",
        "     print(' ', end=' ')\n",
        "  for j in range(i):\n",
        "     print(p, end=' ')\n",
        "     p+=1\n",
        "  for j in range(i+1):\n",
        "     print(p, end=' ')\n",
        "     p-=1\n",
        "  print()"
      ],
      "metadata": {
        "colab": {
          "base_uri": "https://localhost:8080/"
        },
        "id": "AFeOFDaimWGm",
        "outputId": "c864b77b-f3ab-4f0a-b607-14d06172db62"
      },
      "execution_count": 96,
      "outputs": [
        {
          "output_type": "stream",
          "name": "stdout",
          "text": [
            "          1 \n",
            "        1 2 1 \n",
            "      1 2 3 2 1 \n",
            "    1 2 3 4 3 2 1 \n",
            "  1 2 3 4 5 4 3 2 1 \n"
          ]
        }
      ]
    },
    {
      "cell_type": "code",
      "source": [
        "n = 4\n",
        "p = 1\n",
        "\n",
        "for i in range(1, n + 1):\n",
        "    for j in range(i):\n",
        "        print(p, end=\" \")\n",
        "        p += 1\n",
        "    print()\n"
      ],
      "metadata": {
        "colab": {
          "base_uri": "https://localhost:8080/"
        },
        "id": "-6sO_49TmZa8",
        "outputId": "6ae25a76-531a-4b03-8dee-f7eb0cb9c9cb"
      },
      "execution_count": 114,
      "outputs": [
        {
          "output_type": "stream",
          "name": "stdout",
          "text": [
            "1 \n",
            "2 3 \n",
            "4 5 6 \n",
            "7 8 9 10 \n"
          ]
        }
      ]
    }
  ]
}